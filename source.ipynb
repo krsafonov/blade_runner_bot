{
  "nbformat": 4,
  "nbformat_minor": 0,
  "metadata": {
    "colab": {
      "name": "Коппи.ipynb",
      "provenance": []
    },
    "kernelspec": {
      "name": "python3",
      "display_name": "Python 3"
    },
    "language_info": {
      "name": "python"
    }
  },
  "cells": [
    {
      "cell_type": "code",
      "execution_count": 76,
      "metadata": {
        "colab": {
          "base_uri": "https://localhost:8080/"
        },
        "id": "c_qwadvXMBP2",
        "outputId": "ebfcfb98-20e1-4f74-f02f-e1254b8d6262"
      },
      "outputs": [
        {
          "output_type": "stream",
          "name": "stdout",
          "text": [
            "1\n",
            "Welcome, Peter! It is a quest in the \"Blade Runner\" universe. Click start if you want to start \n",
            "('Welcome, Peter! It is a quest in the \"Blade Runner\" universe. Click start if you want to start ', nan, (1, ['Start'], [2.0]))\n",
            "('Deal 1. The murder of the shopkeeper. ', nan, (1, ['Continue'], [3.0]))\n"
          ]
        }
      ],
      "source": [
        "import pandas as pd\n",
        "import numpy as np\n",
        "import re\n",
        "class quest_driver():\n",
        "  def __init__(self, file: str, player: dict = None):\n",
        "    self.quest_file = pd.read_excel(file).set_index(['id'])\n",
        "    self.buttons = self.quest_file[self.quest_file.columns[(np.array(self.quest_file.columns.str.find('Button'))!=-1) | (np.array(self.quest_file.columns.str.find('res'))!=-1)]]\n",
        "    self.player = player\n",
        "    self.id = self.player['id']\n",
        "\n",
        "  def return_buttons(self, id):\n",
        "    n = self.buttons.loc[[id]].dropna(axis=1)\n",
        "    num_but = n.shape[1]//2\n",
        "    but_text = n.values.tolist()[0][::2]\n",
        "    ways = n.values.tolist()[0][1::2]\n",
        "    return (num_but, but_text, ways)\n",
        "\n",
        "  def return_text(self, id):\n",
        "    b = self.quest_file.loc[[id]].dropna(axis=1)['Text'].values.tolist()[0]\n",
        "    if '{self.player[' in b:\n",
        "      print(1)\n",
        "      val = re.findall('{.*?}', b)\n",
        "      for k in val:\n",
        "        j = eval(k[1:-1]) #супер большая уязвимость, но я хз как иначе форматировать\n",
        "        b = b.replace(k, j, 1)\n",
        "        print(b)\n",
        "      return b\n",
        "    else:\n",
        "      return self.quest_file.loc[[id]].dropna(axis=1)['Text'].values.tolist()[0]\n",
        "\n",
        "  def return_image(self, id):\n",
        "    return self.quest_file.loc[[id]]['Image'].values.tolist()[0]\n",
        "\n",
        "  def update(self, id):\n",
        "    id = str(id).split()\n",
        "    if len(id) == 1:\n",
        "      self.id = int(float(id[0]))\n",
        "    else:\n",
        "      num = str(self.player[id[0]])\n",
        "      goal = str(id[2])\n",
        "      if eval(num + id[1] + goal):\n",
        "        self.id = int(id[3])\n",
        "      else:\n",
        "        self.id = int(id[4])\n",
        "    return self.show()\n",
        "\n",
        "  def show(self):\n",
        "    return (self.return_text(self.id), self.return_image(self.id), self.return_buttons(self.id))\n",
        "  \n",
        "que = quest_driver(file = '/content/Квест1.xlsx', player= {'Name': 'Peter', 'Age': 45, 'id': 1, 'rep_pol': 4})\n",
        "print(que.show())\n",
        "print(que.update(2.0))"
      ]
    },
    {
      "cell_type": "code",
      "source": [
        "#изменение мета-данных\n",
        "#сохранение прогресса"
      ],
      "metadata": {
        "colab": {
          "base_uri": "https://localhost:8080/"
        },
        "id": "Kn4zOkQ89rNk",
        "outputId": "e487bdbb-52f9-4c2f-c36d-a6e93be5d1e3"
      },
      "execution_count": 67,
      "outputs": [
        {
          "output_type": "execute_result",
          "data": {
            "text/plain": [
              "['dfhd']"
            ]
          },
          "metadata": {},
          "execution_count": 67
        }
      ]
    }
  ]
}